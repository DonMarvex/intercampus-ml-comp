{
 "cells": [
  {
   "cell_type": "code",
   "execution_count": 1,
   "metadata": {},
   "outputs": [],
   "source": [
    "import pandas as pd\n",
    "import numpy as np\n",
    "# Load normalized dataset from Azure Machine Learning\n",
    "data = pd.read_csv('./normalise/trainsupermarketsizefilled.csv')"
   ]
  },
  {
   "cell_type": "code",
   "execution_count": 2,
   "metadata": {},
   "outputs": [
    {
     "name": "stdout",
     "output_type": "stream",
     "text": [
      "<class 'pandas.core.frame.DataFrame'>\n",
      "RangeIndex: 4990 entries, 0 to 4989\n",
      "Data columns (total 13 columns):\n",
      " #   Column                          Non-Null Count  Dtype  \n",
      "---  ------                          --------------  -----  \n",
      " 0   Product_Identifier              4990 non-null   object \n",
      " 1   Supermarket_Identifier          4990 non-null   object \n",
      " 2   Product_Supermarket_Identifier  4990 non-null   object \n",
      " 3   Product_Weight                  4188 non-null   float64\n",
      " 4   Product_Fat_Content             4990 non-null   object \n",
      " 5   Product_Shelf_Visibility        4990 non-null   float64\n",
      " 6   Product_Type                    4990 non-null   object \n",
      " 7   Product_Price                   4990 non-null   float64\n",
      " 8   Supermarket_Opening_Year        4990 non-null   int64  \n",
      " 9   Supermarket _Size               4990 non-null   object \n",
      " 10  Supermarket_Location_Type       4990 non-null   object \n",
      " 11  Supermarket_Type                4990 non-null   object \n",
      " 12  Product_Supermarket_Sales       4990 non-null   float64\n",
      "dtypes: float64(4), int64(1), object(8)\n",
      "memory usage: 506.9+ KB\n"
     ]
    }
   ],
   "source": [
    "data.info()"
   ]
  },
  {
   "cell_type": "code",
   "execution_count": 3,
   "metadata": {},
   "outputs": [
    {
     "data": {
      "text/html": [
       "<div>\n",
       "<style scoped>\n",
       "    .dataframe tbody tr th:only-of-type {\n",
       "        vertical-align: middle;\n",
       "    }\n",
       "\n",
       "    .dataframe tbody tr th {\n",
       "        vertical-align: top;\n",
       "    }\n",
       "\n",
       "    .dataframe thead th {\n",
       "        text-align: right;\n",
       "    }\n",
       "</style>\n",
       "<table border=\"1\" class=\"dataframe\">\n",
       "  <thead>\n",
       "    <tr style=\"text-align: right;\">\n",
       "      <th></th>\n",
       "      <th>Product_Identifier</th>\n",
       "      <th>Supermarket_Identifier</th>\n",
       "      <th>Product_Supermarket_Identifier</th>\n",
       "      <th>Product_Weight</th>\n",
       "      <th>Product_Fat_Content</th>\n",
       "      <th>Product_Shelf_Visibility</th>\n",
       "      <th>Product_Type</th>\n",
       "      <th>Product_Price</th>\n",
       "      <th>Supermarket_Opening_Year</th>\n",
       "      <th>Supermarket _Size</th>\n",
       "      <th>Supermarket_Location_Type</th>\n",
       "      <th>Supermarket_Type</th>\n",
       "      <th>Product_Supermarket_Sales</th>\n",
       "    </tr>\n",
       "  </thead>\n",
       "  <tbody>\n",
       "    <tr>\n",
       "      <th>0</th>\n",
       "      <td>DRA12</td>\n",
       "      <td>CHUKWUDI010</td>\n",
       "      <td>DRA12_CHUKWUDI010</td>\n",
       "      <td>11.60</td>\n",
       "      <td>Low Fat</td>\n",
       "      <td>0.068535</td>\n",
       "      <td>Soft Drinks</td>\n",
       "      <td>357.54</td>\n",
       "      <td>2005</td>\n",
       "      <td>Small</td>\n",
       "      <td>Cluster 3</td>\n",
       "      <td>Grocery Store</td>\n",
       "      <td>709.08</td>\n",
       "    </tr>\n",
       "    <tr>\n",
       "      <th>1</th>\n",
       "      <td>DRA12</td>\n",
       "      <td>CHUKWUDI013</td>\n",
       "      <td>DRA12_CHUKWUDI013</td>\n",
       "      <td>11.60</td>\n",
       "      <td>Low Fat</td>\n",
       "      <td>0.040912</td>\n",
       "      <td>Soft Drinks</td>\n",
       "      <td>355.79</td>\n",
       "      <td>1994</td>\n",
       "      <td>High</td>\n",
       "      <td>Cluster 3</td>\n",
       "      <td>Supermarket Type1</td>\n",
       "      <td>6381.69</td>\n",
       "    </tr>\n",
       "    <tr>\n",
       "      <th>2</th>\n",
       "      <td>DRA12</td>\n",
       "      <td>CHUKWUDI017</td>\n",
       "      <td>DRA12_CHUKWUDI017</td>\n",
       "      <td>11.60</td>\n",
       "      <td>Low Fat</td>\n",
       "      <td>0.041178</td>\n",
       "      <td>Soft Drinks</td>\n",
       "      <td>350.79</td>\n",
       "      <td>2014</td>\n",
       "      <td>Medium</td>\n",
       "      <td>Cluster 2</td>\n",
       "      <td>Supermarket Type1</td>\n",
       "      <td>6381.69</td>\n",
       "    </tr>\n",
       "    <tr>\n",
       "      <th>3</th>\n",
       "      <td>DRA12</td>\n",
       "      <td>CHUKWUDI018</td>\n",
       "      <td>DRA12_CHUKWUDI018</td>\n",
       "      <td>11.60</td>\n",
       "      <td>Low Fat</td>\n",
       "      <td>0.041113</td>\n",
       "      <td>Soft Drinks</td>\n",
       "      <td>355.04</td>\n",
       "      <td>2016</td>\n",
       "      <td>Medium</td>\n",
       "      <td>Cluster 3</td>\n",
       "      <td>Supermarket Type2</td>\n",
       "      <td>2127.23</td>\n",
       "    </tr>\n",
       "    <tr>\n",
       "      <th>4</th>\n",
       "      <td>DRA12</td>\n",
       "      <td>CHUKWUDI035</td>\n",
       "      <td>DRA12_CHUKWUDI035</td>\n",
       "      <td>11.60</td>\n",
       "      <td>Ultra Low fat</td>\n",
       "      <td>0.000000</td>\n",
       "      <td>Soft Drinks</td>\n",
       "      <td>354.79</td>\n",
       "      <td>2011</td>\n",
       "      <td>Small</td>\n",
       "      <td>Cluster 2</td>\n",
       "      <td>Supermarket Type1</td>\n",
       "      <td>2481.77</td>\n",
       "    </tr>\n",
       "    <tr>\n",
       "      <th>...</th>\n",
       "      <td>...</td>\n",
       "      <td>...</td>\n",
       "      <td>...</td>\n",
       "      <td>...</td>\n",
       "      <td>...</td>\n",
       "      <td>...</td>\n",
       "      <td>...</td>\n",
       "      <td>...</td>\n",
       "      <td>...</td>\n",
       "      <td>...</td>\n",
       "      <td>...</td>\n",
       "      <td>...</td>\n",
       "      <td>...</td>\n",
       "    </tr>\n",
       "    <tr>\n",
       "      <th>4985</th>\n",
       "      <td>NCZ54</td>\n",
       "      <td>CHUKWUDI045</td>\n",
       "      <td>NCZ54_CHUKWUDI045</td>\n",
       "      <td>14.65</td>\n",
       "      <td>Low Fat</td>\n",
       "      <td>0.083528</td>\n",
       "      <td>Household</td>\n",
       "      <td>406.14</td>\n",
       "      <td>2009</td>\n",
       "      <td>High</td>\n",
       "      <td>Cluster 2</td>\n",
       "      <td>Supermarket Type1</td>\n",
       "      <td>5685.93</td>\n",
       "    </tr>\n",
       "    <tr>\n",
       "      <th>4986</th>\n",
       "      <td>NCZ54</td>\n",
       "      <td>CHUKWUDI046</td>\n",
       "      <td>NCZ54_CHUKWUDI046</td>\n",
       "      <td>14.65</td>\n",
       "      <td>Low Fat</td>\n",
       "      <td>0.083359</td>\n",
       "      <td>Household</td>\n",
       "      <td>404.89</td>\n",
       "      <td>2004</td>\n",
       "      <td>Small</td>\n",
       "      <td>Cluster 1</td>\n",
       "      <td>Supermarket Type1</td>\n",
       "      <td>11778.00</td>\n",
       "    </tr>\n",
       "    <tr>\n",
       "      <th>4987</th>\n",
       "      <td>NCZ54</td>\n",
       "      <td>CHUKWUDI049</td>\n",
       "      <td>NCZ54_CHUKWUDI049</td>\n",
       "      <td>14.65</td>\n",
       "      <td>Low Fat</td>\n",
       "      <td>0.083489</td>\n",
       "      <td>Household</td>\n",
       "      <td>403.39</td>\n",
       "      <td>2006</td>\n",
       "      <td>Medium</td>\n",
       "      <td>Cluster 1</td>\n",
       "      <td>Supermarket Type1</td>\n",
       "      <td>17870.07</td>\n",
       "    </tr>\n",
       "    <tr>\n",
       "      <th>4988</th>\n",
       "      <td>NCZ54</td>\n",
       "      <td>CHUKWUDI019</td>\n",
       "      <td>NCZ54_CHUKWUDI019</td>\n",
       "      <td>NaN</td>\n",
       "      <td>Low Fat</td>\n",
       "      <td>0.145952</td>\n",
       "      <td>Household</td>\n",
       "      <td>402.39</td>\n",
       "      <td>1992</td>\n",
       "      <td>Small</td>\n",
       "      <td>Cluster 1</td>\n",
       "      <td>Grocery Store</td>\n",
       "      <td>406.14</td>\n",
       "    </tr>\n",
       "    <tr>\n",
       "      <th>4989</th>\n",
       "      <td>NCZ54</td>\n",
       "      <td>CHUKWUDI027</td>\n",
       "      <td>NCZ54_CHUKWUDI027</td>\n",
       "      <td>NaN</td>\n",
       "      <td>Low Fat</td>\n",
       "      <td>0.082956</td>\n",
       "      <td>Household</td>\n",
       "      <td>410.14</td>\n",
       "      <td>1992</td>\n",
       "      <td>Medium</td>\n",
       "      <td>Cluster 3</td>\n",
       "      <td>Supermarket Type3</td>\n",
       "      <td>13808.69</td>\n",
       "    </tr>\n",
       "  </tbody>\n",
       "</table>\n",
       "<p>4990 rows × 13 columns</p>\n",
       "</div>"
      ],
      "text/plain": [
       "     Product_Identifier Supermarket_Identifier Product_Supermarket_Identifier  \\\n",
       "0                 DRA12            CHUKWUDI010              DRA12_CHUKWUDI010   \n",
       "1                 DRA12            CHUKWUDI013              DRA12_CHUKWUDI013   \n",
       "2                 DRA12            CHUKWUDI017              DRA12_CHUKWUDI017   \n",
       "3                 DRA12            CHUKWUDI018              DRA12_CHUKWUDI018   \n",
       "4                 DRA12            CHUKWUDI035              DRA12_CHUKWUDI035   \n",
       "...                 ...                    ...                            ...   \n",
       "4985              NCZ54            CHUKWUDI045              NCZ54_CHUKWUDI045   \n",
       "4986              NCZ54            CHUKWUDI046              NCZ54_CHUKWUDI046   \n",
       "4987              NCZ54            CHUKWUDI049              NCZ54_CHUKWUDI049   \n",
       "4988              NCZ54            CHUKWUDI019              NCZ54_CHUKWUDI019   \n",
       "4989              NCZ54            CHUKWUDI027              NCZ54_CHUKWUDI027   \n",
       "\n",
       "      Product_Weight Product_Fat_Content  Product_Shelf_Visibility  \\\n",
       "0              11.60             Low Fat                  0.068535   \n",
       "1              11.60             Low Fat                  0.040912   \n",
       "2              11.60             Low Fat                  0.041178   \n",
       "3              11.60             Low Fat                  0.041113   \n",
       "4              11.60       Ultra Low fat                  0.000000   \n",
       "...              ...                 ...                       ...   \n",
       "4985           14.65             Low Fat                  0.083528   \n",
       "4986           14.65             Low Fat                  0.083359   \n",
       "4987           14.65             Low Fat                  0.083489   \n",
       "4988             NaN             Low Fat                  0.145952   \n",
       "4989             NaN             Low Fat                  0.082956   \n",
       "\n",
       "     Product_Type  Product_Price  Supermarket_Opening_Year Supermarket _Size  \\\n",
       "0     Soft Drinks         357.54                      2005             Small   \n",
       "1     Soft Drinks         355.79                      1994              High   \n",
       "2     Soft Drinks         350.79                      2014            Medium   \n",
       "3     Soft Drinks         355.04                      2016            Medium   \n",
       "4     Soft Drinks         354.79                      2011             Small   \n",
       "...           ...            ...                       ...               ...   \n",
       "4985    Household         406.14                      2009              High   \n",
       "4986    Household         404.89                      2004             Small   \n",
       "4987    Household         403.39                      2006            Medium   \n",
       "4988    Household         402.39                      1992             Small   \n",
       "4989    Household         410.14                      1992            Medium   \n",
       "\n",
       "     Supermarket_Location_Type   Supermarket_Type  Product_Supermarket_Sales  \n",
       "0                    Cluster 3      Grocery Store                     709.08  \n",
       "1                    Cluster 3  Supermarket Type1                    6381.69  \n",
       "2                    Cluster 2  Supermarket Type1                    6381.69  \n",
       "3                    Cluster 3  Supermarket Type2                    2127.23  \n",
       "4                    Cluster 2  Supermarket Type1                    2481.77  \n",
       "...                        ...                ...                        ...  \n",
       "4985                 Cluster 2  Supermarket Type1                    5685.93  \n",
       "4986                 Cluster 1  Supermarket Type1                   11778.00  \n",
       "4987                 Cluster 1  Supermarket Type1                   17870.07  \n",
       "4988                 Cluster 1      Grocery Store                     406.14  \n",
       "4989                 Cluster 3  Supermarket Type3                   13808.69  \n",
       "\n",
       "[4990 rows x 13 columns]"
      ]
     },
     "execution_count": 3,
     "metadata": {},
     "output_type": "execute_result"
    }
   ],
   "source": [
    "data"
   ]
  },
  {
   "cell_type": "code",
   "execution_count": 4,
   "metadata": {},
   "outputs": [],
   "source": [
    "from sklearn.preprocessing import LabelEncoder\n",
    "encoder = LabelEncoder()"
   ]
  },
  {
   "cell_type": "code",
   "execution_count": 5,
   "metadata": {},
   "outputs": [
    {
     "data": {
      "text/plain": [
       "Index(['Product_Identifier', 'Supermarket_Identifier',\n",
       "       'Product_Supermarket_Identifier', 'Product_Weight',\n",
       "       'Product_Fat_Content', 'Product_Shelf_Visibility', 'Product_Type',\n",
       "       'Product_Price', 'Supermarket_Opening_Year', 'Supermarket _Size',\n",
       "       'Supermarket_Location_Type', 'Supermarket_Type',\n",
       "       'Product_Supermarket_Sales'],\n",
       "      dtype='object')"
      ]
     },
     "execution_count": 5,
     "metadata": {},
     "output_type": "execute_result"
    }
   ],
   "source": [
    "# Display column headers\n",
    "data.columns"
   ]
  },
  {
   "cell_type": "code",
   "execution_count": 6,
   "metadata": {},
   "outputs": [
    {
     "name": "stdout",
     "output_type": "stream",
     "text": [
      "['Product_Identifier', 'Supermarket_Identifier', 'Product_Supermarket_Identifier', 'Product_Weight', 'Product_Fat_Content', 'Product_Shelf_Visibility', 'Product_Type', 'Product_Price', 'Supermarket_Opening_Year', 'Supermarket _Size', 'Supermarket_Location_Type', 'Supermarket_Type', 'Product_Supermarket_Sales']\n"
     ]
    }
   ],
   "source": [
    "features = []\n",
    "for i in data.columns:\n",
    "    features.append(i)\n",
    "    \n",
    "print(features)"
   ]
  },
  {
   "cell_type": "code",
   "execution_count": 7,
   "metadata": {},
   "outputs": [],
   "source": [
    "predictors = ['Product_Identifier', 'Supermarket_Identifier', 'Product_Fat_Content', 'Product_Shelf_Visibility', 'Product_Type', 'Product_Price', 'Supermarket_Opening_Year', 'Supermarket _Size', 'Supermarket_Location_Type', 'Supermarket_Type', 'Product_Supermarket_Sales']"
   ]
  },
  {
   "cell_type": "code",
   "execution_count": 8,
   "metadata": {},
   "outputs": [],
   "source": [
    "X = data[predictors]\n",
    "# Display the predictors\n",
    "# X\n",
    "# X.info()"
   ]
  },
  {
   "cell_type": "code",
   "execution_count": 9,
   "metadata": {},
   "outputs": [],
   "source": [
    "# Identify categorical features\n",
    "cat = ['Product_Identifier', 'Supermarket_Identifier', 'Product_Fat_Content', 'Product_Type', 'Supermarket _Size', 'Supermarket_Location_Type', 'Supermarket_Type']\n",
    "Xcat = X[cat]\n",
    "# Convert categorical features to numerical using LabelEncoder\n",
    "Xcat = Xcat.apply(LabelEncoder().fit_transform)"
   ]
  },
  {
   "cell_type": "code",
   "execution_count": 10,
   "metadata": {},
   "outputs": [],
   "source": [
    "# Identify numerical features\n",
    "num = ['Product_Shelf_Visibility', 'Product_Price', 'Supermarket_Opening_Year', 'Product_Supermarket_Sales']\n",
    "Xnum = X[num]\n",
    "# Create new\n",
    "Xtrain = pd.concat([Xcat,Xnum],axis=1)"
   ]
  },
  {
   "cell_type": "code",
   "execution_count": 11,
   "metadata": {},
   "outputs": [
    {
     "data": {
      "text/html": [
       "<div>\n",
       "<style scoped>\n",
       "    .dataframe tbody tr th:only-of-type {\n",
       "        vertical-align: middle;\n",
       "    }\n",
       "\n",
       "    .dataframe tbody tr th {\n",
       "        vertical-align: top;\n",
       "    }\n",
       "\n",
       "    .dataframe thead th {\n",
       "        text-align: right;\n",
       "    }\n",
       "</style>\n",
       "<table border=\"1\" class=\"dataframe\">\n",
       "  <thead>\n",
       "    <tr style=\"text-align: right;\">\n",
       "      <th></th>\n",
       "      <th>Product_Identifier</th>\n",
       "      <th>Supermarket_Identifier</th>\n",
       "      <th>Product_Fat_Content</th>\n",
       "      <th>Product_Type</th>\n",
       "      <th>Supermarket _Size</th>\n",
       "      <th>Supermarket_Location_Type</th>\n",
       "      <th>Supermarket_Type</th>\n",
       "      <th>Product_Shelf_Visibility</th>\n",
       "      <th>Product_Price</th>\n",
       "      <th>Supermarket_Opening_Year</th>\n",
       "      <th>Product_Supermarket_Sales</th>\n",
       "    </tr>\n",
       "  </thead>\n",
       "  <tbody>\n",
       "    <tr>\n",
       "      <th>0</th>\n",
       "      <td>0</td>\n",
       "      <td>0</td>\n",
       "      <td>0</td>\n",
       "      <td>14</td>\n",
       "      <td>2</td>\n",
       "      <td>2</td>\n",
       "      <td>0</td>\n",
       "      <td>0.068535</td>\n",
       "      <td>357.54</td>\n",
       "      <td>2005</td>\n",
       "      <td>709.08</td>\n",
       "    </tr>\n",
       "    <tr>\n",
       "      <th>1</th>\n",
       "      <td>0</td>\n",
       "      <td>1</td>\n",
       "      <td>0</td>\n",
       "      <td>14</td>\n",
       "      <td>0</td>\n",
       "      <td>2</td>\n",
       "      <td>1</td>\n",
       "      <td>0.040912</td>\n",
       "      <td>355.79</td>\n",
       "      <td>1994</td>\n",
       "      <td>6381.69</td>\n",
       "    </tr>\n",
       "    <tr>\n",
       "      <th>2</th>\n",
       "      <td>0</td>\n",
       "      <td>2</td>\n",
       "      <td>0</td>\n",
       "      <td>14</td>\n",
       "      <td>1</td>\n",
       "      <td>1</td>\n",
       "      <td>1</td>\n",
       "      <td>0.041178</td>\n",
       "      <td>350.79</td>\n",
       "      <td>2014</td>\n",
       "      <td>6381.69</td>\n",
       "    </tr>\n",
       "    <tr>\n",
       "      <th>3</th>\n",
       "      <td>0</td>\n",
       "      <td>3</td>\n",
       "      <td>0</td>\n",
       "      <td>14</td>\n",
       "      <td>1</td>\n",
       "      <td>2</td>\n",
       "      <td>2</td>\n",
       "      <td>0.041113</td>\n",
       "      <td>355.04</td>\n",
       "      <td>2016</td>\n",
       "      <td>2127.23</td>\n",
       "    </tr>\n",
       "    <tr>\n",
       "      <th>4</th>\n",
       "      <td>0</td>\n",
       "      <td>6</td>\n",
       "      <td>2</td>\n",
       "      <td>14</td>\n",
       "      <td>2</td>\n",
       "      <td>1</td>\n",
       "      <td>1</td>\n",
       "      <td>0.000000</td>\n",
       "      <td>354.79</td>\n",
       "      <td>2011</td>\n",
       "      <td>2481.77</td>\n",
       "    </tr>\n",
       "    <tr>\n",
       "      <th>...</th>\n",
       "      <td>...</td>\n",
       "      <td>...</td>\n",
       "      <td>...</td>\n",
       "      <td>...</td>\n",
       "      <td>...</td>\n",
       "      <td>...</td>\n",
       "      <td>...</td>\n",
       "      <td>...</td>\n",
       "      <td>...</td>\n",
       "      <td>...</td>\n",
       "      <td>...</td>\n",
       "    </tr>\n",
       "    <tr>\n",
       "      <th>4985</th>\n",
       "      <td>1450</td>\n",
       "      <td>7</td>\n",
       "      <td>0</td>\n",
       "      <td>9</td>\n",
       "      <td>0</td>\n",
       "      <td>1</td>\n",
       "      <td>1</td>\n",
       "      <td>0.083528</td>\n",
       "      <td>406.14</td>\n",
       "      <td>2009</td>\n",
       "      <td>5685.93</td>\n",
       "    </tr>\n",
       "    <tr>\n",
       "      <th>4986</th>\n",
       "      <td>1450</td>\n",
       "      <td>8</td>\n",
       "      <td>0</td>\n",
       "      <td>9</td>\n",
       "      <td>2</td>\n",
       "      <td>0</td>\n",
       "      <td>1</td>\n",
       "      <td>0.083359</td>\n",
       "      <td>404.89</td>\n",
       "      <td>2004</td>\n",
       "      <td>11778.00</td>\n",
       "    </tr>\n",
       "    <tr>\n",
       "      <th>4987</th>\n",
       "      <td>1450</td>\n",
       "      <td>9</td>\n",
       "      <td>0</td>\n",
       "      <td>9</td>\n",
       "      <td>1</td>\n",
       "      <td>0</td>\n",
       "      <td>1</td>\n",
       "      <td>0.083489</td>\n",
       "      <td>403.39</td>\n",
       "      <td>2006</td>\n",
       "      <td>17870.07</td>\n",
       "    </tr>\n",
       "    <tr>\n",
       "      <th>4988</th>\n",
       "      <td>1450</td>\n",
       "      <td>4</td>\n",
       "      <td>0</td>\n",
       "      <td>9</td>\n",
       "      <td>2</td>\n",
       "      <td>0</td>\n",
       "      <td>0</td>\n",
       "      <td>0.145952</td>\n",
       "      <td>402.39</td>\n",
       "      <td>1992</td>\n",
       "      <td>406.14</td>\n",
       "    </tr>\n",
       "    <tr>\n",
       "      <th>4989</th>\n",
       "      <td>1450</td>\n",
       "      <td>5</td>\n",
       "      <td>0</td>\n",
       "      <td>9</td>\n",
       "      <td>1</td>\n",
       "      <td>2</td>\n",
       "      <td>3</td>\n",
       "      <td>0.082956</td>\n",
       "      <td>410.14</td>\n",
       "      <td>1992</td>\n",
       "      <td>13808.69</td>\n",
       "    </tr>\n",
       "  </tbody>\n",
       "</table>\n",
       "<p>4990 rows × 11 columns</p>\n",
       "</div>"
      ],
      "text/plain": [
       "      Product_Identifier  Supermarket_Identifier  Product_Fat_Content  \\\n",
       "0                      0                       0                    0   \n",
       "1                      0                       1                    0   \n",
       "2                      0                       2                    0   \n",
       "3                      0                       3                    0   \n",
       "4                      0                       6                    2   \n",
       "...                  ...                     ...                  ...   \n",
       "4985                1450                       7                    0   \n",
       "4986                1450                       8                    0   \n",
       "4987                1450                       9                    0   \n",
       "4988                1450                       4                    0   \n",
       "4989                1450                       5                    0   \n",
       "\n",
       "      Product_Type  Supermarket _Size  Supermarket_Location_Type  \\\n",
       "0               14                  2                          2   \n",
       "1               14                  0                          2   \n",
       "2               14                  1                          1   \n",
       "3               14                  1                          2   \n",
       "4               14                  2                          1   \n",
       "...            ...                ...                        ...   \n",
       "4985             9                  0                          1   \n",
       "4986             9                  2                          0   \n",
       "4987             9                  1                          0   \n",
       "4988             9                  2                          0   \n",
       "4989             9                  1                          2   \n",
       "\n",
       "      Supermarket_Type  Product_Shelf_Visibility  Product_Price  \\\n",
       "0                    0                  0.068535         357.54   \n",
       "1                    1                  0.040912         355.79   \n",
       "2                    1                  0.041178         350.79   \n",
       "3                    2                  0.041113         355.04   \n",
       "4                    1                  0.000000         354.79   \n",
       "...                ...                       ...            ...   \n",
       "4985                 1                  0.083528         406.14   \n",
       "4986                 1                  0.083359         404.89   \n",
       "4987                 1                  0.083489         403.39   \n",
       "4988                 0                  0.145952         402.39   \n",
       "4989                 3                  0.082956         410.14   \n",
       "\n",
       "      Supermarket_Opening_Year  Product_Supermarket_Sales  \n",
       "0                         2005                     709.08  \n",
       "1                         1994                    6381.69  \n",
       "2                         2014                    6381.69  \n",
       "3                         2016                    2127.23  \n",
       "4                         2011                    2481.77  \n",
       "...                        ...                        ...  \n",
       "4985                      2009                    5685.93  \n",
       "4986                      2004                   11778.00  \n",
       "4987                      2006                   17870.07  \n",
       "4988                      1992                     406.14  \n",
       "4989                      1992                   13808.69  \n",
       "\n",
       "[4990 rows x 11 columns]"
      ]
     },
     "execution_count": 11,
     "metadata": {},
     "output_type": "execute_result"
    }
   ],
   "source": [
    "Xtrain"
   ]
  },
  {
   "cell_type": "code",
   "execution_count": 12,
   "metadata": {},
   "outputs": [
    {
     "data": {
      "text/plain": [
       "Product_Shelf_Visibility    -0.164943\n",
       "Supermarket _Size           -0.150212\n",
       "Product_Identifier          -0.016508\n",
       "Product_Fat_Content          0.009485\n",
       "Product_Type                 0.016474\n",
       "Supermarket_Opening_Year     0.051297\n",
       "Supermarket_Location_Type    0.060871\n",
       "Supermarket_Identifier       0.268973\n",
       "Product_Price                0.518285\n",
       "Supermarket_Type             0.554920\n",
       "Product_Supermarket_Sales    1.000000\n",
       "Name: Product_Supermarket_Sales, dtype: float64"
      ]
     },
     "execution_count": 12,
     "metadata": {},
     "output_type": "execute_result"
    }
   ],
   "source": [
    "Xtrain.corr()['Product_Supermarket_Sales'].sort_values()"
   ]
  },
  {
   "cell_type": "code",
   "execution_count": 13,
   "metadata": {},
   "outputs": [
    {
     "name": "stdout",
     "output_type": "stream",
     "text": [
      "Index(['Product_Supermarket_Sales', 'Supermarket_Type', 'Product_Price',\n",
      "       'Supermarket_Identifier', 'Supermarket_Location_Type',\n",
      "       'Supermarket_Opening_Year', 'Product_Type', 'Product_Fat_Content',\n",
      "       'Product_Identifier', 'Supermarket _Size', 'Product_Shelf_Visibility'],\n",
      "      dtype='object')\n"
     ]
    }
   ],
   "source": [
    "correlation = Xtrain.corr(method='pearson')\n",
    "columns = correlation.nlargest(13, 'Product_Supermarket_Sales').index\n",
    "print(columns)"
   ]
  },
  {
   "cell_type": "code",
   "execution_count": 14,
   "metadata": {},
   "outputs": [
    {
     "data": {
      "image/png": "[encoded data removed]",
      "text/plain": [
       "<Figure size 432x288 with 2 Axes>"
      ]
     },
     "metadata": {},
     "output_type": "display_data"
    }
   ],
   "source": [
    "import matplotlib.pyplot as plt\n",
    "import seaborn as sns\n",
    "correlation_map = np.corrcoef(Xtrain[columns].values.T)\n",
    "sns.set(font_scale=1.0)\n",
    "heatmap = sns.heatmap(correlation_map, cbar=True, annot=True, square=True, fmt='.2f', yticklabels=columns.values, xticklabels=columns.values)\n",
    "\n",
    "plt.show()"
   ]
  },
  {
   "cell_type": "code",
   "execution_count": 15,
   "metadata": {},
   "outputs": [
    {
     "data": {
      "image/png": "[encoded data removed]",
      "text/plain": [
       "<Figure size 432x288 with 1 Axes>"
      ]
     },
     "metadata": {},
     "output_type": "display_data"
    }
   ],
   "source": [
    "import matplotlib.pyplot as plt\n",
    "plt.scatter(Xtrain['Product_Price'], Xtrain['Product_Supermarket_Sales'], color='blue')\n",
    "plt.title('Retail Price v Sales Price', fontsize=14)\n",
    "plt.xlabel('Product_Price', fontsize=14)\n",
    "plt.ylabel('Product_Supermarket_Sales', fontsize=14)\n",
    "plt.grid(True)\n",
    "plt.show()"
   ]
  },
  {
   "cell_type": "code",
   "execution_count": 16,
   "metadata": {
    "scrolled": true
   },
   "outputs": [
    {
     "data": {
      "image/png": "[encoded data removed]",
      "text/plain": [
       "<Figure size 432x288 with 1 Axes>"
      ]
     },
     "metadata": {},
     "output_type": "display_data"
    }
   ],
   "source": [
    "import matplotlib.pyplot as plt\n",
    "# Plot a histogram of Product Price\n",
    "plt.hist(data['Product_Supermarket_Sales'], rwidth=0.85)\n",
    "plt.title('Distribution of Salesprice', fontsize=14)\n",
    "plt.xlabel('Price', fontsize=14)\n",
    "plt.ylabel('Frequency', fontsize=14)\n",
    "plt.grid(True)\n",
    "plt.show()"
   ]
  },
  {
   "cell_type": "code",
   "execution_count": 17,
   "metadata": {},
   "outputs": [
    {
     "data": {
      "image/png": "[encoded data removed]",
      "text/plain": [
       "<Figure size 432x288 with 1 Axes>"
      ]
     },
     "metadata": {},
     "output_type": "display_data"
    }
   ],
   "source": [
    "import matplotlib.pyplot as plt\n",
    "plt.scatter(Xtrain['Supermarket_Type'], Xtrain['Product_Supermarket_Sales'], color='blue')\n",
    "plt.title('Supermarket_Type v Sales Price', fontsize=14)\n",
    "plt.xlabel('Supermarket_Type', fontsize=14)\n",
    "plt.ylabel('Product_Supermarket_Sales', fontsize=14)\n",
    "plt.grid(True)\n",
    "plt.show()\n",
    "# Grocery stores have the lowest prices while Supermarket Type 3 has the highest prices"
   ]
  },
  {
   "cell_type": "code",
   "execution_count": 18,
   "metadata": {},
   "outputs": [
    {
     "data": {
      "image/png": "[encoded data removed]",
      "text/plain": [
       "<Figure size 432x288 with 1 Axes>"
      ]
     },
     "metadata": {},
     "output_type": "display_data"
    }
   ],
   "source": [
    "import matplotlib.pyplot as plt\n",
    "plt.scatter(Xtrain['Product_Identifier'], Xtrain['Product_Supermarket_Sales'], color='blue')\n",
    "plt.title('Product_Identifier v Sales Price', fontsize=14)\n",
    "plt.xlabel('Product_Identifier', fontsize=14)\n",
    "plt.ylabel('Product_Supermarket_Sales', fontsize=14)\n",
    "plt.grid(True)\n",
    "plt.show()"
   ]
  },
  {
   "cell_type": "code",
   "execution_count": 19,
   "metadata": {},
   "outputs": [
    {
     "data": {
      "image/png": "[encoded data removed]",
      "text/plain": [
       "<Figure size 432x288 with 1 Axes>"
      ]
     },
     "metadata": {},
     "output_type": "display_data"
    }
   ],
   "source": [
    "import matplotlib.pyplot as plt\n",
    "plt.scatter(Xtrain['Supermarket_Identifier'], Xtrain['Product_Supermarket_Sales'], color='blue')\n",
    "plt.title('Supermarket_Identifier v Sales Price', fontsize=14)\n",
    "plt.xlabel('Supermarket_Identifier', fontsize=14)\n",
    "plt.ylabel('Product_Supermarket_Sales', fontsize=14)\n",
    "plt.grid(True)\n",
    "plt.show()"
   ]
  },
  {
   "cell_type": "code",
   "execution_count": 20,
   "metadata": {},
   "outputs": [
    {
     "data": {
      "image/png": "[encoded data removed]",
      "text/plain": [
       "<Figure size 432x288 with 1 Axes>"
      ]
     },
     "metadata": {},
     "output_type": "display_data"
    }
   ],
   "source": [
    "import matplotlib.pyplot as plt\n",
    "plt.scatter(Xtrain['Supermarket_Location_Type'], Xtrain['Product_Supermarket_Sales'], color='blue')\n",
    "plt.title('Supermarket_Location_Type v Sales Price', fontsize=14)\n",
    "plt.xlabel('Supermarket_Location_Type', fontsize=14)\n",
    "plt.ylabel('Product_Supermarket_Sales', fontsize=14)\n",
    "plt.grid(True)\n",
    "plt.show()\n"
   ]
  },
  {
   "cell_type": "code",
   "execution_count": 21,
   "metadata": {},
   "outputs": [
    {
     "data": {
      "image/png": "[encoded data removed]",
      "text/plain": [
       "<Figure size 432x288 with 1 Axes>"
      ]
     },
     "metadata": {},
     "output_type": "display_data"
    }
   ],
   "source": [
    "import matplotlib.pyplot as plt\n",
    "plt.scatter(Xtrain['Supermarket_Opening_Year'], Xtrain['Product_Supermarket_Sales'], color='blue')\n",
    "plt.title('Supermarket_Opening_Year v Sales Price', fontsize=14)\n",
    "plt.xlabel('Supermarket_Opening_Year', fontsize=14)\n",
    "plt.ylabel('Product_Supermarket_Sales', fontsize=14)\n",
    "plt.grid(True)\n",
    "plt.show()"
   ]
  },
  {
   "cell_type": "code",
   "execution_count": 22,
   "metadata": {},
   "outputs": [
    {
     "data": {
      "image/png": "[encoded data removed]",
      "text/plain": [
       "<Figure size 432x288 with 1 Axes>"
      ]
     },
     "metadata": {},
     "output_type": "display_data"
    }
   ],
   "source": [
    "import matplotlib.pyplot as plt\n",
    "plt.scatter(Xtrain['Product_Type'], Xtrain['Product_Supermarket_Sales'], color='blue')\n",
    "plt.title('Product_Type v Sales Price', fontsize=14)\n",
    "plt.xlabel('Product_Type', fontsize=14)\n",
    "plt.ylabel('Product_Supermarket_Sales', fontsize=14)\n",
    "plt.grid(True)\n",
    "plt.show()"
   ]
  },
  {
   "cell_type": "code",
   "execution_count": 23,
   "metadata": {},
   "outputs": [
    {
     "data": {
      "image/png": "[encoded data removed]",
      "text/plain": [
       "<Figure size 432x288 with 1 Axes>"
      ]
     },
     "metadata": {},
     "output_type": "display_data"
    }
   ],
   "source": [
    "import matplotlib.pyplot as plt\n",
    "plt.scatter(Xtrain['Supermarket _Size'], Xtrain['Product_Supermarket_Sales'], color='blue')\n",
    "plt.title('Supermarket _Size v Sales Price', fontsize=14)\n",
    "plt.xlabel('Supermarket _Size', fontsize=14)\n",
    "plt.ylabel('Product_Supermarket_Sales', fontsize=14)\n",
    "plt.grid(True)\n",
    "plt.show()"
   ]
  },
  {
   "cell_type": "code",
   "execution_count": 24,
   "metadata": {},
   "outputs": [],
   "source": [
    "#Xtrain.Product_Supermarket_Sales = Xtrain.Product_Supermarket_Sales.astype(int)\n",
    "#Xtrain['Product_Supermarket_Sales'] = np.sqrt(Xtrain['Product_Supermarket_Sales'])\n",
    "#Xtrain"
   ]
  },
  {
   "cell_type": "code",
   "execution_count": 25,
   "metadata": {},
   "outputs": [],
   "source": [
    "#Xtrain['Product_Supermarket_Sales'] = (Xtrain['Product_Supermarket_Sales'])"
   ]
  },
  {
   "cell_type": "code",
   "execution_count": 26,
   "metadata": {
    "scrolled": true
   },
   "outputs": [
    {
     "data": {
      "text/plain": [
       "array([  709.08,  6381.69,  6381.69, ..., 17870.07,   406.14, 13808.69])"
      ]
     },
     "execution_count": 26,
     "metadata": {},
     "output_type": "execute_result"
    }
   ],
   "source": [
    "# Identnify varibale to be predicted\n",
    "y = Xtrain['Product_Supermarket_Sales'].values\n",
    "y"
   ]
  },
  {
   "cell_type": "code",
   "execution_count": 27,
   "metadata": {},
   "outputs": [
    {
     "data": {
      "text/plain": [
       "array([[0.00000000e+00, 0.00000000e+00, 0.00000000e+00, ...,\n",
       "        6.85350390e-02, 3.57540000e+02, 2.00500000e+03],\n",
       "       [0.00000000e+00, 1.00000000e+00, 0.00000000e+00, ...,\n",
       "        4.09118240e-02, 3.55790000e+02, 1.99400000e+03],\n",
       "       [0.00000000e+00, 2.00000000e+00, 0.00000000e+00, ...,\n",
       "        4.11775050e-02, 3.50790000e+02, 2.01400000e+03],\n",
       "       ...,\n",
       "       [1.45000000e+03, 9.00000000e+00, 0.00000000e+00, ...,\n",
       "        8.34889920e-02, 4.03390000e+02, 2.00600000e+03],\n",
       "       [1.45000000e+03, 4.00000000e+00, 0.00000000e+00, ...,\n",
       "        1.45951533e-01, 4.02390000e+02, 1.99200000e+03],\n",
       "       [1.45000000e+03, 5.00000000e+00, 0.00000000e+00, ...,\n",
       "        8.29557190e-02, 4.10140000e+02, 1.99200000e+03]])"
      ]
     },
     "execution_count": 27,
     "metadata": {},
     "output_type": "execute_result"
    }
   ],
   "source": [
    "#Xtrain\n",
    "Xtrain = Xtrain.drop('Product_Supermarket_Sales', axis = 1).values\n",
    "Xtrain"
   ]
  },
  {
   "cell_type": "code",
   "execution_count": 28,
   "metadata": {},
   "outputs": [],
   "source": [
    "#correlation = Xtrain.corr(method='pearson')\n",
    "#columns = correlation.nlargest(10, 'Product_Supermarket_Sales').index\n",
    "#print(columns)\n",
    "\n",
    "#import matplotlib.pyplot as plt\n",
    "#import seaborn as sns\n",
    "#correlation_map = np.corrcoef(Xnew[columns].values.T)\n",
    "#sns.set(font_scale=1.0)\n",
    "#heatmap = sns.heatmap(correlation_map, cbar=True, annot=True, square=True, fmt='.2f', yticklabels=columns.values, xticklabels=columns.values)\n",
    "\n",
    "#plt.show()"
   ]
  },
  {
   "cell_type": "code",
   "execution_count": 29,
   "metadata": {},
   "outputs": [],
   "source": [
    "test = pd.read_csv('./normalise/testsupermarketsizefilled.csv')\n",
    "# test"
   ]
  },
  {
   "cell_type": "code",
   "execution_count": 30,
   "metadata": {},
   "outputs": [
    {
     "name": "stdout",
     "output_type": "stream",
     "text": [
      "<class 'pandas.core.frame.DataFrame'>\n",
      "RangeIndex: 3532 entries, 0 to 3531\n",
      "Data columns (total 12 columns):\n",
      " #   Column                          Non-Null Count  Dtype  \n",
      "---  ------                          --------------  -----  \n",
      " 0   Product_Identifier              3532 non-null   object \n",
      " 1   Supermarket_Identifier          3532 non-null   object \n",
      " 2   Product_Supermarket_Identifier  3532 non-null   object \n",
      " 3   Product_Weight                  2871 non-null   float64\n",
      " 4   Product_Fat_Content             3532 non-null   object \n",
      " 5   Product_Shelf_Visibility        3532 non-null   float64\n",
      " 6   Product_Type                    3532 non-null   object \n",
      " 7   Product_Price                   3532 non-null   float64\n",
      " 8   Supermarket_Opening_Year        3532 non-null   int64  \n",
      " 9   Supermarket _Size               3532 non-null   object \n",
      " 10  Supermarket_Location_Type       3532 non-null   object \n",
      " 11  Supermarket_Type                3532 non-null   object \n",
      "dtypes: float64(3), int64(1), object(8)\n",
      "memory usage: 331.2+ KB\n"
     ]
    }
   ],
   "source": [
    "test.info()"
   ]
  },
  {
   "cell_type": "code",
   "execution_count": 31,
   "metadata": {
    "scrolled": true
   },
   "outputs": [
    {
     "data": {
      "text/plain": [
       "Index(['Product_Identifier', 'Supermarket_Identifier',\n",
       "       'Product_Supermarket_Identifier', 'Product_Weight',\n",
       "       'Product_Fat_Content', 'Product_Shelf_Visibility', 'Product_Type',\n",
       "       'Product_Price', 'Supermarket_Opening_Year', 'Supermarket _Size',\n",
       "       'Supermarket_Location_Type', 'Supermarket_Type'],\n",
       "      dtype='object')"
      ]
     },
     "execution_count": 31,
     "metadata": {},
     "output_type": "execute_result"
    }
   ],
   "source": [
    "test.columns"
   ]
  },
  {
   "cell_type": "code",
   "execution_count": 32,
   "metadata": {},
   "outputs": [],
   "source": [
    "testpredictors = ['Product_Identifier', 'Supermarket_Identifier', 'Product_Fat_Content', 'Product_Shelf_Visibility', 'Product_Type', 'Product_Price', 'Supermarket_Opening_Year', 'Supermarket _Size', 'Supermarket_Location_Type', 'Supermarket_Type']\n",
    "X1 = test[testpredictors]\n",
    "#X1.info()"
   ]
  },
  {
   "cell_type": "code",
   "execution_count": 33,
   "metadata": {},
   "outputs": [],
   "source": [
    "# Convert categorical features to numerical features\n",
    "testcat = ['Product_Identifier', 'Supermarket_Identifier', 'Product_Fat_Content', 'Product_Type', 'Supermarket _Size', 'Supermarket_Location_Type', 'Supermarket_Type']\n",
    "Xtestcat = X1[testcat]\n",
    "# Convert categorical features to numerical using LabelEncoder\n",
    "Xtestcat = Xtestcat.apply(LabelEncoder().fit_transform)\n",
    "\n",
    "# Identify numerical features\n",
    "testnum = ['Product_Shelf_Visibility', 'Product_Price', 'Supermarket_Opening_Year']\n",
    "Xtestnum = X1[testnum]\n",
    "# Create new\n",
    "Xtest = pd.concat([Xtestcat,Xtestnum],axis=1)\n"
   ]
  },
  {
   "cell_type": "code",
   "execution_count": 34,
   "metadata": {},
   "outputs": [],
   "source": [
    "#from sklearn.preprocessing import MinMaxScaler\n",
    "#scaler = MinMaxScaler(feature_range=(0, 1), copy=True)\n",
    "#scaler.fit(Xtestnew)\n",
    "#Xtest = pd.DataFrame(scaler.transform(Xtestnew), index=Xtestnew.index, columns=Xtestnew.columns)\n",
    "# data3\n",
    "# data4 = pd.DataFrame(scaler.inverse_transform(data1), index=data1.index, columns=data1.columns)\n",
    "# Xtest"
   ]
  },
  {
   "cell_type": "code",
   "execution_count": 35,
   "metadata": {},
   "outputs": [
    {
     "name": "stdout",
     "output_type": "stream",
     "text": [
      "[0.0836545  0.01766369 0.01006249 0.03351986 0.01250053 0.00498551\n",
      " 0.29853253 0.12136305 0.30493157 0.11278626]\n",
      "10\n"
     ]
    }
   ],
   "source": [
    "from sklearn.ensemble import GradientBoostingRegressor\n",
    "from sklearn.metrics import mean_squared_error\n",
    "from sklearn.preprocessing import MinMaxScaler\n",
    "from sklearn.model_selection import train_test_split\n",
    "\n",
    "X_train, X_test, Y_train, Y_test = train_test_split(Xtrain, y, test_size = 0.05, random_state=100)\n",
    "\n",
    "scaler = MinMaxScaler().fit(X_train)\n",
    "rescaled_Xtrain = scaler.transform(X_train)\n",
    "\n",
    "model = GradientBoostingRegressor(max_depth=9, n_estimators = 1000, random_state=100, max_features='auto')\n",
    "model.fit(rescaled_Xtrain, Y_train)\n",
    "print(model.feature_importances_)\n",
    "print(model.n_features_)"
   ]
  },
  {
   "cell_type": "code",
   "execution_count": 36,
   "metadata": {},
   "outputs": [
    {
     "name": "stdout",
     "output_type": "stream",
     "text": [
      "3423.7152844962075\n"
     ]
    }
   ],
   "source": [
    "from sklearn.preprocessing import MinMaxScaler\n",
    "\n",
    "scaler = MinMaxScaler().fit(X_test)\n",
    "rescaled_X_test = scaler.transform(X_test)\n",
    "predictions = model.predict(rescaled_X_test)\n",
    "print (np.sqrt(mean_squared_error(Y_test, predictions)))"
   ]
  },
  {
   "cell_type": "code",
   "execution_count": 37,
   "metadata": {},
   "outputs": [
    {
     "name": "stdout",
     "output_type": "stream",
     "text": [
      "42.568376864626515\n"
     ]
    }
   ],
   "source": [
    "from sklearn.ensemble import GradientBoostingRegressor\n",
    "from sklearn.metrics import mean_squared_error\n",
    "from sklearn.preprocessing import MinMaxScaler\n",
    "\n",
    "scaler = MinMaxScaler().fit(Xtrain)\n",
    "rescaled_Xtrain = scaler.transform(Xtrain)\n",
    "model = GradientBoostingRegressor(max_depth=9, n_estimators = 1000, random_state=100)\n",
    "model.fit(rescaled_Xtrain, y)\n",
    "\n",
    "scaler = MinMaxScaler().fit(Xtrain)\n",
    "rescaled_Xtest = scaler.transform(Xtrain)\n",
    "predictions = model.predict(rescaled_Xtest)\n",
    "print (np.sqrt(mean_squared_error(y, predictions)))"
   ]
  },
  {
   "cell_type": "code",
   "execution_count": 38,
   "metadata": {},
   "outputs": [
    {
     "data": {
      "text/html": [
       "<div>\n",
       "<style scoped>\n",
       "    .dataframe tbody tr th:only-of-type {\n",
       "        vertical-align: middle;\n",
       "    }\n",
       "\n",
       "    .dataframe tbody tr th {\n",
       "        vertical-align: top;\n",
       "    }\n",
       "\n",
       "    .dataframe thead th {\n",
       "        text-align: right;\n",
       "    }\n",
       "</style>\n",
       "<table border=\"1\" class=\"dataframe\">\n",
       "  <thead>\n",
       "    <tr style=\"text-align: right;\">\n",
       "      <th></th>\n",
       "      <th>Prediction</th>\n",
       "      <th>Actual Data</th>\n",
       "    </tr>\n",
       "  </thead>\n",
       "  <tbody>\n",
       "    <tr>\n",
       "      <th>0</th>\n",
       "      <td>707.993070</td>\n",
       "      <td>709.08</td>\n",
       "    </tr>\n",
       "    <tr>\n",
       "      <th>1</th>\n",
       "      <td>6387.791329</td>\n",
       "      <td>6381.69</td>\n",
       "    </tr>\n",
       "    <tr>\n",
       "      <th>2</th>\n",
       "      <td>6378.021668</td>\n",
       "      <td>6381.69</td>\n",
       "    </tr>\n",
       "    <tr>\n",
       "      <th>3</th>\n",
       "      <td>2144.567392</td>\n",
       "      <td>2127.23</td>\n",
       "    </tr>\n",
       "    <tr>\n",
       "      <th>4</th>\n",
       "      <td>2478.806379</td>\n",
       "      <td>2481.77</td>\n",
       "    </tr>\n",
       "    <tr>\n",
       "      <th>5</th>\n",
       "      <td>9576.020531</td>\n",
       "      <td>9572.54</td>\n",
       "    </tr>\n",
       "    <tr>\n",
       "      <th>6</th>\n",
       "      <td>815.971351</td>\n",
       "      <td>818.93</td>\n",
       "    </tr>\n",
       "    <tr>\n",
       "      <th>7</th>\n",
       "      <td>11042.748402</td>\n",
       "      <td>11055.61</td>\n",
       "    </tr>\n",
       "    <tr>\n",
       "      <th>8</th>\n",
       "      <td>2883.998604</td>\n",
       "      <td>2866.27</td>\n",
       "    </tr>\n",
       "    <tr>\n",
       "      <th>9</th>\n",
       "      <td>8576.178210</td>\n",
       "      <td>8598.81</td>\n",
       "    </tr>\n",
       "  </tbody>\n",
       "</table>\n",
       "</div>"
      ],
      "text/plain": [
       "     Prediction  Actual Data\n",
       "0    707.993070       709.08\n",
       "1   6387.791329      6381.69\n",
       "2   6378.021668      6381.69\n",
       "3   2144.567392      2127.23\n",
       "4   2478.806379      2481.77\n",
       "5   9576.020531      9572.54\n",
       "6    815.971351       818.93\n",
       "7  11042.748402     11055.61\n",
       "8   2883.998604      2866.27\n",
       "9   8576.178210      8598.81"
      ]
     },
     "execution_count": 38,
     "metadata": {},
     "output_type": "execute_result"
    }
   ],
   "source": [
    "compare = pd.DataFrame({'Prediction': predictions, 'Actual Data' : y})\n",
    "compare.head(10)"
   ]
  },
  {
   "cell_type": "code",
   "execution_count": 39,
   "metadata": {},
   "outputs": [],
   "source": [
    "from sklearn.ensemble import GradientBoostingRegressor\n",
    "from sklearn.metrics import mean_squared_error\n",
    "from sklearn.preprocessing import MinMaxScaler\n",
    "\n",
    "scaler = MinMaxScaler().fit(Xtrain)\n",
    "rescaled_Xtrain = scaler.transform(Xtrain)\n",
    "model = GradientBoostingRegressor(max_depth=8, n_estimators = 1000, random_state=100)\n",
    "model.fit(rescaled_Xtrain, y)\n",
    "\n",
    "scaler = MinMaxScaler().fit(Xtest)\n",
    "rescaled_Xtest = scaler.transform(Xtest)\n",
    "predictions = model.predict(rescaled_Xtest)"
   ]
  },
  {
   "cell_type": "code",
   "execution_count": 40,
   "metadata": {},
   "outputs": [
    {
     "data": {
      "text/plain": [
       "array([ 1063.89551573, 13588.78685558, 10090.73345796, ...,\n",
       "       10040.5343769 ,  4230.20467723,  6913.59911769])"
      ]
     },
     "execution_count": 40,
     "metadata": {},
     "output_type": "execute_result"
    }
   ],
   "source": [
    "predic = predictions\n",
    "predic"
   ]
  },
  {
   "cell_type": "code",
   "execution_count": 42,
   "metadata": {},
   "outputs": [],
   "source": [
    "predic = pd.DataFrame(predictions)\n",
    "predic\n",
    "dataExport = pd.concat([Xtest,predic],axis=1)\n",
    "dataExport.to_csv('./submissions/Submission43.csv', index=False)"
   ]
  },
  {
   "cell_type": "code",
   "execution_count": 43,
   "metadata": {},
   "outputs": [
    {
     "name": "stdout",
     "output_type": "stream",
     "text": [
      "[0.18653689 0.03271688 0.02212953 0.08772833 0.02605444 0.01251855\n",
      " 0.07710685 0.19919103 0.32493219 0.03108531]\n"
     ]
    }
   ],
   "source": [
    "from sklearn.ensemble import AdaBoostRegressor\n",
    "from sklearn.metrics import mean_squared_error\n",
    "from sklearn.preprocessing import MinMaxScaler\n",
    "from sklearn.model_selection import train_test_split\n",
    "from sklearn.tree import DecisionTreeRegressor\n",
    "\n",
    "X_train, X_test, Y_train, Y_test = train_test_split(Xtrain, y, test_size = 0.05, random_state=100)\n",
    "\n",
    "scaler = MinMaxScaler().fit(X_train)\n",
    "rescaled_Xtrain = scaler.transform(X_train)\n",
    "\n",
    "model = AdaBoostRegressor(DecisionTreeRegressor(max_depth=8), n_estimators = 1000, random_state=100)\n",
    "model.fit(rescaled_Xtrain, Y_train)\n",
    "print(model.feature_importances_)\n",
    "#print(model.decision_path(rescaled_Xtrain))"
   ]
  },
  {
   "cell_type": "code",
   "execution_count": 44,
   "metadata": {},
   "outputs": [
    {
     "name": "stdout",
     "output_type": "stream",
     "text": [
      "3286.4093136327083\n"
     ]
    }
   ],
   "source": [
    "from sklearn.preprocessing import MinMaxScaler\n",
    "\n",
    "scaler = MinMaxScaler().fit(X_test)\n",
    "rescaled_X_test = scaler.transform(X_test)\n",
    "predictions = model.predict(rescaled_X_test)\n",
    "print (np.sqrt(mean_squared_error(Y_test, predictions)))"
   ]
  },
  {
   "cell_type": "code",
   "execution_count": 45,
   "metadata": {},
   "outputs": [
    {
     "name": "stdout",
     "output_type": "stream",
     "text": [
      "[0.00712985 0.04816871 0.00505091 0.00621858 0.01403664 0.01849489\n",
      " 0.54080644 0.00669395 0.27930858 0.07409146]\n",
      "10\n"
     ]
    }
   ],
   "source": [
    "from sklearn.ensemble import ExtraTreesRegressor\n",
    "from sklearn.metrics import mean_squared_error\n",
    "from sklearn.preprocessing import MinMaxScaler\n",
    "from sklearn.model_selection import train_test_split\n",
    "\n",
    "X_train, X_test, Y_train, Y_test = train_test_split(Xtrain, y, test_size = 0.05, random_state=100)\n",
    "\n",
    "scaler = MinMaxScaler().fit(X_train)\n",
    "rescaled_Xtrain = scaler.transform(X_train)\n",
    "\n",
    "model = ExtraTreesRegressor(max_depth=7, n_estimators = 1000, random_state=100, n_jobs=-1, max_features='auto')\n",
    "model.fit(rescaled_Xtrain, Y_train)\n",
    "print(model.feature_importances_)\n",
    "print(model.n_features_)\n",
    "#print(model.decision_path(rescaled_Xtrain))"
   ]
  },
  {
   "cell_type": "code",
   "execution_count": 46,
   "metadata": {},
   "outputs": [
    {
     "name": "stdout",
     "output_type": "stream",
     "text": [
      "2844.8046561224764\n"
     ]
    }
   ],
   "source": [
    "from sklearn.preprocessing import MinMaxScaler\n",
    "\n",
    "scaler = MinMaxScaler().fit(X_test)\n",
    "rescaled_X_test = scaler.transform(X_test)\n",
    "predictions = model.predict(rescaled_X_test)\n",
    "print (np.sqrt(mean_squared_error(Y_test, predictions)))"
   ]
  },
  {
   "cell_type": "code",
   "execution_count": 47,
   "metadata": {
    "scrolled": false
   },
   "outputs": [
    {
     "name": "stdout",
     "output_type": "stream",
     "text": [
      "[8.74286834e-03 1.82319717e-04 4.68079094e-04 2.59278686e-03\n",
      " 2.04640581e-04 2.17929524e-04 5.13615330e-01 6.36863327e-03\n",
      " 3.53498029e-01 1.14109384e-01]\n",
      "10\n"
     ]
    }
   ],
   "source": [
    "from sklearn.ensemble import RandomForestRegressor\n",
    "from sklearn.metrics import mean_squared_error\n",
    "from sklearn.preprocessing import MinMaxScaler\n",
    "from sklearn.model_selection import train_test_split\n",
    "\n",
    "X_train, X_test, Y_train, Y_test = train_test_split(Xtrain, y, test_size = 0.05, random_state=100)\n",
    "\n",
    "scaler = MinMaxScaler().fit(X_train)\n",
    "rescaled_Xtrain = scaler.transform(X_train)\n",
    "\n",
    "model = RandomForestRegressor(max_depth=5, n_estimators = 1000, random_state=100, n_jobs=-1, max_features='auto')\n",
    "model.fit(rescaled_Xtrain, Y_train)\n",
    "print(model.feature_importances_)\n",
    "print(model.n_features_)\n",
    "#print(model.decision_path(rescaled_Xtrain))"
   ]
  },
  {
   "cell_type": "code",
   "execution_count": 48,
   "metadata": {},
   "outputs": [
    {
     "name": "stdout",
     "output_type": "stream",
     "text": [
      "2865.2963597268003\n"
     ]
    }
   ],
   "source": [
    "from sklearn.preprocessing import MinMaxScaler\n",
    "\n",
    "scaler = MinMaxScaler().fit(X_test)\n",
    "rescaled_X_test = scaler.transform(X_test)\n",
    "predictions = model.predict(rescaled_X_test)\n",
    "print (np.sqrt(mean_squared_error(Y_test, predictions)))"
   ]
  },
  {
   "cell_type": "code",
   "execution_count": 49,
   "metadata": {},
   "outputs": [
    {
     "data": {
      "text/html": [
       "<div>\n",
       "<style scoped>\n",
       "    .dataframe tbody tr th:only-of-type {\n",
       "        vertical-align: middle;\n",
       "    }\n",
       "\n",
       "    .dataframe tbody tr th {\n",
       "        vertical-align: top;\n",
       "    }\n",
       "\n",
       "    .dataframe thead th {\n",
       "        text-align: right;\n",
       "    }\n",
       "</style>\n",
       "<table border=\"1\" class=\"dataframe\">\n",
       "  <thead>\n",
       "    <tr style=\"text-align: right;\">\n",
       "      <th></th>\n",
       "      <th>Prediction</th>\n",
       "      <th>Actual Data</th>\n",
       "    </tr>\n",
       "  </thead>\n",
       "  <tbody>\n",
       "    <tr>\n",
       "      <th>0</th>\n",
       "      <td>3881.721123</td>\n",
       "      <td>2563.33</td>\n",
       "    </tr>\n",
       "    <tr>\n",
       "      <th>1</th>\n",
       "      <td>3989.283100</td>\n",
       "      <td>5278.13</td>\n",
       "    </tr>\n",
       "    <tr>\n",
       "      <th>2</th>\n",
       "      <td>6834.452364</td>\n",
       "      <td>1253.37</td>\n",
       "    </tr>\n",
       "    <tr>\n",
       "      <th>3</th>\n",
       "      <td>6389.306927</td>\n",
       "      <td>6734.57</td>\n",
       "    </tr>\n",
       "    <tr>\n",
       "      <th>4</th>\n",
       "      <td>1132.599809</td>\n",
       "      <td>878.86</td>\n",
       "    </tr>\n",
       "    <tr>\n",
       "      <th>5</th>\n",
       "      <td>6176.047979</td>\n",
       "      <td>4574.05</td>\n",
       "    </tr>\n",
       "    <tr>\n",
       "      <th>6</th>\n",
       "      <td>3888.062167</td>\n",
       "      <td>4554.07</td>\n",
       "    </tr>\n",
       "    <tr>\n",
       "      <th>7</th>\n",
       "      <td>9644.195249</td>\n",
       "      <td>15491.50</td>\n",
       "    </tr>\n",
       "    <tr>\n",
       "      <th>8</th>\n",
       "      <td>4080.775076</td>\n",
       "      <td>3175.87</td>\n",
       "    </tr>\n",
       "    <tr>\n",
       "      <th>9</th>\n",
       "      <td>7677.463465</td>\n",
       "      <td>1810.98</td>\n",
       "    </tr>\n",
       "  </tbody>\n",
       "</table>\n",
       "</div>"
      ],
      "text/plain": [
       "    Prediction  Actual Data\n",
       "0  3881.721123      2563.33\n",
       "1  3989.283100      5278.13\n",
       "2  6834.452364      1253.37\n",
       "3  6389.306927      6734.57\n",
       "4  1132.599809       878.86\n",
       "5  6176.047979      4574.05\n",
       "6  3888.062167      4554.07\n",
       "7  9644.195249     15491.50\n",
       "8  4080.775076      3175.87\n",
       "9  7677.463465      1810.98"
      ]
     },
     "execution_count": 49,
     "metadata": {},
     "output_type": "execute_result"
    }
   ],
   "source": [
    "compare = pd.DataFrame({'Prediction': predictions, 'Actual Data' : Y_test})\n",
    "compare.head(10)"
   ]
  },
  {
   "cell_type": "code",
   "execution_count": 50,
   "metadata": {},
   "outputs": [
    {
     "name": "stderr",
     "output_type": "stream",
     "text": [
      "C:\\Users\\Marvel\\AppData\\Local\\Temp/ipykernel_20016/3468511850.py:1: RuntimeWarning: overflow encountered in exp\n",
      "  actualytest = np.exp(Y_test)\n",
      "C:\\Users\\Marvel\\AppData\\Local\\Temp/ipykernel_20016/3468511850.py:2: RuntimeWarning: overflow encountered in exp\n",
      "  predictedytest = np.exp(predictions)\n"
     ]
    },
    {
     "data": {
      "text/html": [
       "<div>\n",
       "<style scoped>\n",
       "    .dataframe tbody tr th:only-of-type {\n",
       "        vertical-align: middle;\n",
       "    }\n",
       "\n",
       "    .dataframe tbody tr th {\n",
       "        vertical-align: top;\n",
       "    }\n",
       "\n",
       "    .dataframe thead th {\n",
       "        text-align: right;\n",
       "    }\n",
       "</style>\n",
       "<table border=\"1\" class=\"dataframe\">\n",
       "  <thead>\n",
       "    <tr style=\"text-align: right;\">\n",
       "      <th></th>\n",
       "      <th>Prediction</th>\n",
       "      <th>Actual Data</th>\n",
       "    </tr>\n",
       "  </thead>\n",
       "  <tbody>\n",
       "    <tr>\n",
       "      <th>0</th>\n",
       "      <td>inf</td>\n",
       "      <td>inf</td>\n",
       "    </tr>\n",
       "    <tr>\n",
       "      <th>1</th>\n",
       "      <td>inf</td>\n",
       "      <td>inf</td>\n",
       "    </tr>\n",
       "    <tr>\n",
       "      <th>2</th>\n",
       "      <td>inf</td>\n",
       "      <td>inf</td>\n",
       "    </tr>\n",
       "    <tr>\n",
       "      <th>3</th>\n",
       "      <td>inf</td>\n",
       "      <td>inf</td>\n",
       "    </tr>\n",
       "    <tr>\n",
       "      <th>4</th>\n",
       "      <td>inf</td>\n",
       "      <td>inf</td>\n",
       "    </tr>\n",
       "    <tr>\n",
       "      <th>...</th>\n",
       "      <td>...</td>\n",
       "      <td>...</td>\n",
       "    </tr>\n",
       "    <tr>\n",
       "      <th>245</th>\n",
       "      <td>inf</td>\n",
       "      <td>inf</td>\n",
       "    </tr>\n",
       "    <tr>\n",
       "      <th>246</th>\n",
       "      <td>inf</td>\n",
       "      <td>inf</td>\n",
       "    </tr>\n",
       "    <tr>\n",
       "      <th>247</th>\n",
       "      <td>inf</td>\n",
       "      <td>inf</td>\n",
       "    </tr>\n",
       "    <tr>\n",
       "      <th>248</th>\n",
       "      <td>inf</td>\n",
       "      <td>inf</td>\n",
       "    </tr>\n",
       "    <tr>\n",
       "      <th>249</th>\n",
       "      <td>inf</td>\n",
       "      <td>inf</td>\n",
       "    </tr>\n",
       "  </tbody>\n",
       "</table>\n",
       "<p>250 rows × 2 columns</p>\n",
       "</div>"
      ],
      "text/plain": [
       "     Prediction  Actual Data\n",
       "0           inf          inf\n",
       "1           inf          inf\n",
       "2           inf          inf\n",
       "3           inf          inf\n",
       "4           inf          inf\n",
       "..          ...          ...\n",
       "245         inf          inf\n",
       "246         inf          inf\n",
       "247         inf          inf\n",
       "248         inf          inf\n",
       "249         inf          inf\n",
       "\n",
       "[250 rows x 2 columns]"
      ]
     },
     "execution_count": 50,
     "metadata": {},
     "output_type": "execute_result"
    }
   ],
   "source": [
    "actualytest = np.exp(Y_test)\n",
    "predictedytest = np.exp(predictions)\n",
    "compare_actual = pd.DataFrame({'Prediction': predictedytest, 'Actual Data' : actualytest})\n",
    "compare_actual"
   ]
  },
  {
   "cell_type": "code",
   "execution_count": 51,
   "metadata": {},
   "outputs": [
    {
     "name": "stdout",
     "output_type": "stream",
     "text": [
      "2474.9171910659766\n"
     ]
    }
   ],
   "source": [
    "from sklearn.ensemble import RandomForestRegressor\n",
    "from sklearn.metrics import mean_squared_error\n",
    "from sklearn.preprocessing import MinMaxScaler\n",
    "\n",
    "scaler = MinMaxScaler().fit(Xtrain)\n",
    "rescaled_Xtrain = scaler.transform(Xtrain)\n",
    "model = RandomForestRegressor(n_estimators = 1000, max_depth=9, random_state=100, n_jobs=-1)\n",
    "model.fit(rescaled_Xtrain, y)\n",
    "\n",
    "predictions = model.predict(rescaled_Xtrain)\n",
    "print (np.sqrt(mean_squared_error(y, predictions)))\n"
   ]
  },
  {
   "cell_type": "code",
   "execution_count": 52,
   "metadata": {},
   "outputs": [
    {
     "data": {
      "text/html": [
       "<div>\n",
       "<style scoped>\n",
       "    .dataframe tbody tr th:only-of-type {\n",
       "        vertical-align: middle;\n",
       "    }\n",
       "\n",
       "    .dataframe tbody tr th {\n",
       "        vertical-align: top;\n",
       "    }\n",
       "\n",
       "    .dataframe thead th {\n",
       "        text-align: right;\n",
       "    }\n",
       "</style>\n",
       "<table border=\"1\" class=\"dataframe\">\n",
       "  <thead>\n",
       "    <tr style=\"text-align: right;\">\n",
       "      <th></th>\n",
       "      <th>Prediction</th>\n",
       "      <th>Actual Data</th>\n",
       "    </tr>\n",
       "  </thead>\n",
       "  <tbody>\n",
       "    <tr>\n",
       "      <th>0</th>\n",
       "      <td>696.165938</td>\n",
       "      <td>709.08</td>\n",
       "    </tr>\n",
       "    <tr>\n",
       "      <th>1</th>\n",
       "      <td>5682.886388</td>\n",
       "      <td>6381.69</td>\n",
       "    </tr>\n",
       "    <tr>\n",
       "      <th>2</th>\n",
       "      <td>5219.020166</td>\n",
       "      <td>6381.69</td>\n",
       "    </tr>\n",
       "    <tr>\n",
       "      <th>3</th>\n",
       "      <td>3948.286570</td>\n",
       "      <td>2127.23</td>\n",
       "    </tr>\n",
       "    <tr>\n",
       "      <th>4</th>\n",
       "      <td>5506.776761</td>\n",
       "      <td>2481.77</td>\n",
       "    </tr>\n",
       "    <tr>\n",
       "      <th>5</th>\n",
       "      <td>5902.314406</td>\n",
       "      <td>9572.54</td>\n",
       "    </tr>\n",
       "    <tr>\n",
       "      <th>6</th>\n",
       "      <td>966.062463</td>\n",
       "      <td>818.93</td>\n",
       "    </tr>\n",
       "    <tr>\n",
       "      <th>7</th>\n",
       "      <td>6935.608392</td>\n",
       "      <td>11055.61</td>\n",
       "    </tr>\n",
       "    <tr>\n",
       "      <th>8</th>\n",
       "      <td>6103.293119</td>\n",
       "      <td>2866.27</td>\n",
       "    </tr>\n",
       "    <tr>\n",
       "      <th>9</th>\n",
       "      <td>6773.078563</td>\n",
       "      <td>8598.81</td>\n",
       "    </tr>\n",
       "  </tbody>\n",
       "</table>\n",
       "</div>"
      ],
      "text/plain": [
       "    Prediction  Actual Data\n",
       "0   696.165938       709.08\n",
       "1  5682.886388      6381.69\n",
       "2  5219.020166      6381.69\n",
       "3  3948.286570      2127.23\n",
       "4  5506.776761      2481.77\n",
       "5  5902.314406      9572.54\n",
       "6   966.062463       818.93\n",
       "7  6935.608392     11055.61\n",
       "8  6103.293119      2866.27\n",
       "9  6773.078563      8598.81"
      ]
     },
     "execution_count": 52,
     "metadata": {},
     "output_type": "execute_result"
    }
   ],
   "source": [
    "compare = pd.DataFrame({'Prediction': predictions, 'Actual Data' : y})\n",
    "compare.head(10)"
   ]
  },
  {
   "cell_type": "code",
   "execution_count": 53,
   "metadata": {},
   "outputs": [
    {
     "data": {
      "text/html": [
       "<div>\n",
       "<style scoped>\n",
       "    .dataframe tbody tr th:only-of-type {\n",
       "        vertical-align: middle;\n",
       "    }\n",
       "\n",
       "    .dataframe tbody tr th {\n",
       "        vertical-align: top;\n",
       "    }\n",
       "\n",
       "    .dataframe thead th {\n",
       "        text-align: right;\n",
       "    }\n",
       "</style>\n",
       "<table border=\"1\" class=\"dataframe\">\n",
       "  <thead>\n",
       "    <tr style=\"text-align: right;\">\n",
       "      <th></th>\n",
       "      <th>Prediction</th>\n",
       "      <th>Actual Data</th>\n",
       "    </tr>\n",
       "  </thead>\n",
       "  <tbody>\n",
       "    <tr>\n",
       "      <th>0</th>\n",
       "      <td>4.846470e+05</td>\n",
       "      <td>5.027944e+05</td>\n",
       "    </tr>\n",
       "    <tr>\n",
       "      <th>1</th>\n",
       "      <td>3.229520e+07</td>\n",
       "      <td>4.072597e+07</td>\n",
       "    </tr>\n",
       "    <tr>\n",
       "      <th>2</th>\n",
       "      <td>2.723817e+07</td>\n",
       "      <td>4.072597e+07</td>\n",
       "    </tr>\n",
       "    <tr>\n",
       "      <th>3</th>\n",
       "      <td>1.558897e+07</td>\n",
       "      <td>4.525107e+06</td>\n",
       "    </tr>\n",
       "    <tr>\n",
       "      <th>4</th>\n",
       "      <td>3.032459e+07</td>\n",
       "      <td>6.159182e+06</td>\n",
       "    </tr>\n",
       "    <tr>\n",
       "      <th>...</th>\n",
       "      <td>...</td>\n",
       "      <td>...</td>\n",
       "    </tr>\n",
       "    <tr>\n",
       "      <th>4985</th>\n",
       "      <td>6.805609e+07</td>\n",
       "      <td>3.232980e+07</td>\n",
       "    </tr>\n",
       "    <tr>\n",
       "      <th>4986</th>\n",
       "      <td>9.528384e+07</td>\n",
       "      <td>1.387213e+08</td>\n",
       "    </tr>\n",
       "    <tr>\n",
       "      <th>4987</th>\n",
       "      <td>1.567140e+08</td>\n",
       "      <td>3.193394e+08</td>\n",
       "    </tr>\n",
       "    <tr>\n",
       "      <th>4988</th>\n",
       "      <td>7.757992e+05</td>\n",
       "      <td>1.649497e+05</td>\n",
       "    </tr>\n",
       "    <tr>\n",
       "      <th>4989</th>\n",
       "      <td>1.238958e+08</td>\n",
       "      <td>1.906799e+08</td>\n",
       "    </tr>\n",
       "  </tbody>\n",
       "</table>\n",
       "<p>4990 rows × 2 columns</p>\n",
       "</div>"
      ],
      "text/plain": [
       "        Prediction   Actual Data\n",
       "0     4.846470e+05  5.027944e+05\n",
       "1     3.229520e+07  4.072597e+07\n",
       "2     2.723817e+07  4.072597e+07\n",
       "3     1.558897e+07  4.525107e+06\n",
       "4     3.032459e+07  6.159182e+06\n",
       "...            ...           ...\n",
       "4985  6.805609e+07  3.232980e+07\n",
       "4986  9.528384e+07  1.387213e+08\n",
       "4987  1.567140e+08  3.193394e+08\n",
       "4988  7.757992e+05  1.649497e+05\n",
       "4989  1.238958e+08  1.906799e+08\n",
       "\n",
       "[4990 rows x 2 columns]"
      ]
     },
     "execution_count": 53,
     "metadata": {},
     "output_type": "execute_result"
    }
   ],
   "source": [
    "actualy = np.square(y)\n",
    "predictedy = np.square(predictions)\n",
    "compare_actual = pd.DataFrame({'Prediction': predictedy, 'Actual Data' : actualy})\n",
    "compare_actual"
   ]
  },
  {
   "cell_type": "code",
   "execution_count": 54,
   "metadata": {},
   "outputs": [],
   "source": [
    "from sklearn.ensemble import AdaBoostRegressor\n",
    "from sklearn.metrics import mean_squared_error\n",
    "from sklearn.preprocessing import MinMaxScaler\n",
    "from sklearn.ensemble import RandomForestRegressor\n",
    "\n",
    "scaler = MinMaxScaler().fit(Xtrain)\n",
    "rescaled_Xtrain = scaler.transform(Xtrain)\n",
    "model = AdaBoostRegressor(RandomForestRegressor(max_depth=5), n_estimators = 2000, random_state=100)\n",
    "model.fit(rescaled_Xtrain, y)\n",
    "\n",
    "scaler = MinMaxScaler().fit(Xtest)\n",
    "rescaled_Xtest = scaler.transform(Xtest)\n",
    "predictions = model.predict(rescaled_Xtest)\n"
   ]
  },
  {
   "cell_type": "code",
   "execution_count": 55,
   "metadata": {},
   "outputs": [
    {
     "data": {
      "text/plain": [
       "array([2853.52835996, 7739.68125096, 7857.14893986, ..., 9678.00812647,\n",
       "       3169.09413415, 8202.0283788 ])"
      ]
     },
     "execution_count": 55,
     "metadata": {},
     "output_type": "execute_result"
    }
   ],
   "source": [
    "predic = predictions\n",
    "predic"
   ]
  },
  {
   "cell_type": "code",
   "execution_count": 56,
   "metadata": {},
   "outputs": [],
   "source": [
    "predic = pd.DataFrame(predictions)\n",
    "predic\n",
    "dataExport = pd.concat([Xtest,predic],axis=1)\n",
    "dataExport.to_csv('./submissions/ubmission40.csv', index=False)"
   ]
  },
  {
   "cell_type": "code",
   "execution_count": 57,
   "metadata": {},
   "outputs": [],
   "source": [
    "from sklearn.ensemble import ExtraTreesRegressor\n",
    "from sklearn.metrics import mean_squared_error\n",
    "from sklearn.preprocessing import MinMaxScaler\n",
    "\n",
    "scaler = MinMaxScaler().fit(Xtrain)\n",
    "rescaled_Xtrain = scaler.transform(Xtrain)\n",
    "model = ExtraTreesRegressor(n_estimators = 1000, max_depth=10, random_state=100, n_jobs=-1)\n",
    "model.fit(rescaled_Xtrain, y)\n",
    "\n",
    "scaler = MinMaxScaler().fit(Xtest)\n",
    "rescaled_Xtest = scaler.transform(Xtest)\n",
    "predictions = model.predict(rescaled_Xtest)"
   ]
  },
  {
   "cell_type": "code",
   "execution_count": 58,
   "metadata": {},
   "outputs": [
    {
     "data": {
      "text/plain": [
       "array([1369.39323478, 8325.32896136, 7424.91376098, ..., 8981.21113082,\n",
       "       1117.7375275 , 6319.78024841])"
      ]
     },
     "execution_count": 58,
     "metadata": {},
     "output_type": "execute_result"
    }
   ],
   "source": [
    "predic = predictions\n",
    "predic"
   ]
  },
  {
   "cell_type": "code",
   "execution_count": 60,
   "metadata": {},
   "outputs": [],
   "source": [
    "predic = pd.DataFrame(predictions)\n",
    "predic\n",
    "dataExport = pd.concat([Xtest,predic],axis=1)\n",
    "dataExport.to_csv('./submissions/Submission36.csv', index=False)"
   ]
  },
  {
   "cell_type": "code",
   "execution_count": 61,
   "metadata": {},
   "outputs": [],
   "source": [
    "from sklearn.ensemble import RandomForestRegressor\n",
    "from sklearn.metrics import mean_squared_error\n",
    "from sklearn.preprocessing import MinMaxScaler\n",
    "\n",
    "scaler = MinMaxScaler().fit(Xtrain)\n",
    "rescaled_Xtrain = scaler.transform(Xtrain)\n",
    "model = RandomForestRegressor(n_estimators = 1000, max_depth=9, random_state=100, n_jobs=-1, warm_start=True)\n",
    "model.fit(rescaled_Xtrain, y)\n",
    "\n",
    "scaler = MinMaxScaler().fit(Xtest)\n",
    "rescaled_Xtest = scaler.transform(Xtest)\n",
    "predictions = model.predict(rescaled_Xtest)"
   ]
  },
  {
   "cell_type": "code",
   "execution_count": 62,
   "metadata": {},
   "outputs": [
    {
     "data": {
      "text/plain": [
       "array([1031.10263458, 8381.95214366, 7888.58259267, ..., 9536.59961084,\n",
       "       2211.89862327, 7778.75704283])"
      ]
     },
     "execution_count": 62,
     "metadata": {},
     "output_type": "execute_result"
    }
   ],
   "source": [
    "predic = predictions\n",
    "predic"
   ]
  },
  {
   "cell_type": "code",
   "execution_count": 64,
   "metadata": {},
   "outputs": [],
   "source": [
    "predic = pd.DataFrame(predictions)\n",
    "predic\n",
    "dataExport = pd.concat([Xtest,predic],axis=1)\n",
    "dataExport.to_csv('./submissions/Submission39.csv', index=False)"
   ]
  },
  {
   "cell_type": "code",
   "execution_count": null,
   "metadata": {},
   "outputs": [],
   "source": [
    "actualy = predictions\n",
    "#actualy\n",
    "predic = pd.DataFrame(actualy)\n",
    "predic\n",
    "dataExport = pd.concat([Xtestnew,predic],axis=1)\n",
    "dataExport.to_csv('C:\\\\Users\\\\USER\\\\Documents\\\\INTER CAMPUS MACHINE LEARNING 2018\\\\NORMALISED\\\\Submission19.csv', index=False)"
   ]
  },
  {
   "cell_type": "code",
   "execution_count": null,
   "metadata": {},
   "outputs": [],
   "source": []
  }
 ],
 "metadata": {
  "kernelspec": {
   "display_name": "Python 3 (ipykernel)",
   "language": "python",
   "name": "python3"
  },
  "language_info": {
   "codemirror_mode": {
    "name": "ipython",
    "version": 3
   },
   "file_extension": ".py",
   "mimetype": "text/x-python",
   "name": "python",
   "nbconvert_exporter": "python",
   "pygments_lexer": "ipython3",
   "version": "3.9.7"
  }
 },
 "nbformat": 4,
 "nbformat_minor": 2
}
